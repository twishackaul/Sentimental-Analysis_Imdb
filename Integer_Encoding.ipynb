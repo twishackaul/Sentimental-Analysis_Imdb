{
  "nbformat": 4,
  "nbformat_minor": 0,
  "metadata": {
    "colab": {
      "provenance": [],
      "authorship_tag": "ABX9TyP5eYoNOCOHJiPHkULYyeX9",
      "include_colab_link": true
    },
    "kernelspec": {
      "name": "python3",
      "display_name": "Python 3"
    },
    "language_info": {
      "name": "python"
    }
  },
  "cells": [
    {
      "cell_type": "markdown",
      "metadata": {
        "id": "view-in-github",
        "colab_type": "text"
      },
      "source": [
        "<a href=\"https://colab.research.google.com/github/twishackaul/Sentimental-Analysis_Imdb/blob/main/Integer_Encoding.ipynb\" target=\"_parent\"><img src=\"https://colab.research.google.com/assets/colab-badge.svg\" alt=\"Open In Colab\"/></a>"
      ]
    },
    {
      "cell_type": "code",
      "execution_count": null,
      "metadata": {
        "id": "HhSfoR5bohxp"
      },
      "outputs": [],
      "source": [
        "import numpy as np\n",
        "\n",
        "docs = ['go india',\n",
        "\t\t'india india',\n",
        "\t\t'You can do',\n",
        "\t\t'Best players fitness showcases',\n",
        "\t\t'Cricket for love',\n",
        "\t\t'kohli kohli',\n",
        "\t\t'sachin sachin',\n",
        "\t\t'dhoni dhoni',\n",
        "\t\t'Elected the best player',\n",
        "\t\t'hit the boundaries']"
      ]
    },
    {
      "cell_type": "code",
      "source": [
        "from keras.preprocessing.text import Tokenizer\n",
        "\n",
        "tokenizer = Tokenizer(oov_token = '<nothing>')"
      ],
      "metadata": {
        "id": "z7rVQOKVoqJ_"
      },
      "execution_count": null,
      "outputs": []
    },
    {
      "cell_type": "markdown",
      "source": [
        "The oov_token='<nothing>' parameter in the Tokenizer class from Keras is used to handle out-of-vocabulary (OOV) words, which are words that are not present in the training dataset. When oov_token is set to a specific token (in this case, <nothing>), any word that is not in the vocabulary will be replaced with this token."
      ],
      "metadata": {
        "id": "cAqt7hVapcw2"
      }
    },
    {
      "cell_type": "code",
      "source": [
        "tokenizer.fit_on_texts(docs)"
      ],
      "metadata": {
        "id": "hw5Gh6shpe1m"
      },
      "execution_count": null,
      "outputs": []
    },
    {
      "cell_type": "code",
      "source": [
        "tokenizer.word_index"
      ],
      "metadata": {
        "colab": {
          "base_uri": "https://localhost:8080/"
        },
        "id": "DreHcj_NqXAZ",
        "outputId": "9619d1c9-f4b2-4314-fa18-be144c844b6b"
      },
      "execution_count": null,
      "outputs": [
        {
          "output_type": "execute_result",
          "data": {
            "text/plain": [
              "{'<nothing>': 1,\n",
              " 'india': 2,\n",
              " 'best': 3,\n",
              " 'kohli': 4,\n",
              " 'sachin': 5,\n",
              " 'dhoni': 6,\n",
              " 'the': 7,\n",
              " 'go': 8,\n",
              " 'you': 9,\n",
              " 'can': 10,\n",
              " 'do': 11,\n",
              " 'players': 12,\n",
              " 'fitness': 13,\n",
              " 'showcases': 14,\n",
              " 'cricket': 15,\n",
              " 'for': 16,\n",
              " 'love': 17,\n",
              " 'elected': 18,\n",
              " 'player': 19,\n",
              " 'hit': 20,\n",
              " 'boundaries': 21}"
            ]
          },
          "metadata": {},
          "execution_count": 5
        }
      ]
    },
    {
      "cell_type": "code",
      "source": [
        "tokenizer.word_counts"
      ],
      "metadata": {
        "colab": {
          "base_uri": "https://localhost:8080/"
        },
        "id": "ez2FF5NAqaz8",
        "outputId": "2097d904-ce11-4406-8f46-7694a5fb9832"
      },
      "execution_count": null,
      "outputs": [
        {
          "output_type": "execute_result",
          "data": {
            "text/plain": [
              "OrderedDict([('go', 1),\n",
              "             ('india', 3),\n",
              "             ('you', 1),\n",
              "             ('can', 1),\n",
              "             ('do', 1),\n",
              "             ('best', 2),\n",
              "             ('players', 1),\n",
              "             ('fitness', 1),\n",
              "             ('showcases', 1),\n",
              "             ('cricket', 1),\n",
              "             ('for', 1),\n",
              "             ('love', 1),\n",
              "             ('kohli', 2),\n",
              "             ('sachin', 2),\n",
              "             ('dhoni', 2),\n",
              "             ('elected', 1),\n",
              "             ('the', 2),\n",
              "             ('player', 1),\n",
              "             ('hit', 1),\n",
              "             ('boundaries', 1)])"
            ]
          },
          "metadata": {},
          "execution_count": 6
        }
      ]
    },
    {
      "cell_type": "code",
      "source": [
        "tokenizer.document_count"
      ],
      "metadata": {
        "colab": {
          "base_uri": "https://localhost:8080/"
        },
        "id": "9az3WCakqaXQ",
        "outputId": "be9fe5e4-462b-4088-cdc1-4f9ad0cf4bf1"
      },
      "execution_count": null,
      "outputs": [
        {
          "output_type": "execute_result",
          "data": {
            "text/plain": [
              "10"
            ]
          },
          "metadata": {},
          "execution_count": 7
        }
      ]
    },
    {
      "cell_type": "code",
      "source": [
        "sequences = tokenizer.texts_to_sequences(docs)\n",
        "sequences"
      ],
      "metadata": {
        "colab": {
          "base_uri": "https://localhost:8080/"
        },
        "id": "JwiWl51qqoDg",
        "outputId": "7892aa2f-05cc-40bf-ffa9-99878331f3f0"
      },
      "execution_count": null,
      "outputs": [
        {
          "output_type": "execute_result",
          "data": {
            "text/plain": [
              "[[8, 2],\n",
              " [2, 2],\n",
              " [9, 10, 11],\n",
              " [3, 12, 13, 14],\n",
              " [15, 16, 17],\n",
              " [4, 4],\n",
              " [5, 5],\n",
              " [6, 6],\n",
              " [18, 7, 3, 19],\n",
              " [20, 7, 21]]"
            ]
          },
          "metadata": {},
          "execution_count": 8
        }
      ]
    },
    {
      "cell_type": "code",
      "source": [
        "from keras.utils import pad_sequences"
      ],
      "metadata": {
        "id": "346YTciZqzh5"
      },
      "execution_count": null,
      "outputs": []
    },
    {
      "cell_type": "code",
      "source": [
        "sequences = pad_sequences(sequences, padding = 'post')\n",
        "sequences"
      ],
      "metadata": {
        "colab": {
          "base_uri": "https://localhost:8080/"
        },
        "id": "qLK1H9X-q-ru",
        "outputId": "8b9c6afa-b1e0-47a1-e065-57e09ba803a6"
      },
      "execution_count": null,
      "outputs": [
        {
          "output_type": "execute_result",
          "data": {
            "text/plain": [
              "array([[ 8,  2,  0,  0],\n",
              "       [ 2,  2,  0,  0],\n",
              "       [ 9, 10, 11,  0],\n",
              "       [ 3, 12, 13, 14],\n",
              "       [15, 16, 17,  0],\n",
              "       [ 4,  4,  0,  0],\n",
              "       [ 5,  5,  0,  0],\n",
              "       [ 6,  6,  0,  0],\n",
              "       [18,  7,  3, 19],\n",
              "       [20,  7, 21,  0]], dtype=int32)"
            ]
          },
          "metadata": {},
          "execution_count": 10
        }
      ]
    }
  ]
}