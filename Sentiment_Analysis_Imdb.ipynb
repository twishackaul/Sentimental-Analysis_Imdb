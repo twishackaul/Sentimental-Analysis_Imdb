{
  "cells": [
    {
      "cell_type": "markdown",
      "metadata": {
        "id": "view-in-github",
        "colab_type": "text"
      },
      "source": [
        "<a href=\"https://colab.research.google.com/github/twishackaul/Sentimental-Analysis_Imdb/blob/main/Sentiment_Analysis_Imdb.ipynb\" target=\"_parent\"><img src=\"https://colab.research.google.com/assets/colab-badge.svg\" alt=\"Open In Colab\"/></a>"
      ]
    },
    {
      "cell_type": "code",
      "execution_count": 244,
      "metadata": {
        "id": "oxkkoNG9j-4W"
      },
      "outputs": [],
      "source": [
        "from keras.datasets import imdb\n",
        "import numpy as np\n",
        "import tensorflow as tf\n",
        "\n",
        "from keras.preprocessing.sequence import pad_sequences\n",
        "from keras.models import Sequential\n",
        "from tensorflow.keras.layers import Embedding, LSTM, Dense, Dropout"
      ]
    },
    {
      "cell_type": "code",
      "execution_count": 245,
      "metadata": {
        "id": "bdQyg6OtrsVv"
      },
      "outputs": [],
      "source": [
        "(X_train, y_train), (X_test, y_test) = imdb.load_data()"
      ]
    },
    {
      "cell_type": "code",
      "execution_count": 246,
      "metadata": {
        "colab": {
          "base_uri": "https://localhost:8080/"
        },
        "id": "UxmIJIzpr-d4",
        "outputId": "3a55252f-4980-4a6b-d191-8495780686ec"
      },
      "outputs": [
        {
          "output_type": "execute_result",
          "data": {
            "text/plain": [
              "(25000,)"
            ]
          },
          "metadata": {},
          "execution_count": 246
        }
      ],
      "source": [
        "X_train.shape"
      ]
    },
    {
      "cell_type": "code",
      "execution_count": 247,
      "metadata": {
        "colab": {
          "base_uri": "https://localhost:8080/"
        },
        "id": "oTznyWQwsEwo",
        "outputId": "667e886e-c0a2-4da0-9264-28c242209063"
      },
      "outputs": [
        {
          "output_type": "execute_result",
          "data": {
            "text/plain": [
              "(25000,)"
            ]
          },
          "metadata": {},
          "execution_count": 247
        }
      ],
      "source": [
        "y_train.shape"
      ]
    },
    {
      "cell_type": "code",
      "execution_count": 248,
      "metadata": {
        "colab": {
          "base_uri": "https://localhost:8080/"
        },
        "id": "UdAbcy7AsJJM",
        "outputId": "8f1835be-d2fb-4619-be84-a09fdd356e8e"
      },
      "outputs": [
        {
          "output_type": "execute_result",
          "data": {
            "text/plain": [
              "array([1, 0, 0, 1, 0, 0, 1, 0, 1, 0])"
            ]
          },
          "metadata": {},
          "execution_count": 248
        }
      ],
      "source": [
        "y_train[0:10]"
      ]
    },
    {
      "cell_type": "code",
      "execution_count": 249,
      "metadata": {
        "colab": {
          "base_uri": "https://localhost:8080/"
        },
        "id": "-CHRTMr1sLIY",
        "outputId": "39612237-a882-4423-9a93-876a5cbf9bdf"
      },
      "outputs": [
        {
          "output_type": "execute_result",
          "data": {
            "text/plain": [
              "[1,\n",
              " 14,\n",
              " 22,\n",
              " 16,\n",
              " 43,\n",
              " 530,\n",
              " 973,\n",
              " 1622,\n",
              " 1385,\n",
              " 65,\n",
              " 458,\n",
              " 4468,\n",
              " 66,\n",
              " 3941,\n",
              " 4,\n",
              " 173,\n",
              " 36,\n",
              " 256,\n",
              " 5,\n",
              " 25,\n",
              " 100,\n",
              " 43,\n",
              " 838,\n",
              " 112,\n",
              " 50,\n",
              " 670,\n",
              " 22665,\n",
              " 9,\n",
              " 35,\n",
              " 480,\n",
              " 284,\n",
              " 5,\n",
              " 150,\n",
              " 4,\n",
              " 172,\n",
              " 112,\n",
              " 167,\n",
              " 21631,\n",
              " 336,\n",
              " 385,\n",
              " 39,\n",
              " 4,\n",
              " 172,\n",
              " 4536,\n",
              " 1111,\n",
              " 17,\n",
              " 546,\n",
              " 38,\n",
              " 13,\n",
              " 447,\n",
              " 4,\n",
              " 192,\n",
              " 50,\n",
              " 16,\n",
              " 6,\n",
              " 147,\n",
              " 2025,\n",
              " 19,\n",
              " 14,\n",
              " 22,\n",
              " 4,\n",
              " 1920,\n",
              " 4613,\n",
              " 469,\n",
              " 4,\n",
              " 22,\n",
              " 71,\n",
              " 87,\n",
              " 12,\n",
              " 16,\n",
              " 43,\n",
              " 530,\n",
              " 38,\n",
              " 76,\n",
              " 15,\n",
              " 13,\n",
              " 1247,\n",
              " 4,\n",
              " 22,\n",
              " 17,\n",
              " 515,\n",
              " 17,\n",
              " 12,\n",
              " 16,\n",
              " 626,\n",
              " 18,\n",
              " 19193,\n",
              " 5,\n",
              " 62,\n",
              " 386,\n",
              " 12,\n",
              " 8,\n",
              " 316,\n",
              " 8,\n",
              " 106,\n",
              " 5,\n",
              " 4,\n",
              " 2223,\n",
              " 5244,\n",
              " 16,\n",
              " 480,\n",
              " 66,\n",
              " 3785,\n",
              " 33,\n",
              " 4,\n",
              " 130,\n",
              " 12,\n",
              " 16,\n",
              " 38,\n",
              " 619,\n",
              " 5,\n",
              " 25,\n",
              " 124,\n",
              " 51,\n",
              " 36,\n",
              " 135,\n",
              " 48,\n",
              " 25,\n",
              " 1415,\n",
              " 33,\n",
              " 6,\n",
              " 22,\n",
              " 12,\n",
              " 215,\n",
              " 28,\n",
              " 77,\n",
              " 52,\n",
              " 5,\n",
              " 14,\n",
              " 407,\n",
              " 16,\n",
              " 82,\n",
              " 10311,\n",
              " 8,\n",
              " 4,\n",
              " 107,\n",
              " 117,\n",
              " 5952,\n",
              " 15,\n",
              " 256,\n",
              " 4,\n",
              " 31050,\n",
              " 7,\n",
              " 3766,\n",
              " 5,\n",
              " 723,\n",
              " 36,\n",
              " 71,\n",
              " 43,\n",
              " 530,\n",
              " 476,\n",
              " 26,\n",
              " 400,\n",
              " 317,\n",
              " 46,\n",
              " 7,\n",
              " 4,\n",
              " 12118,\n",
              " 1029,\n",
              " 13,\n",
              " 104,\n",
              " 88,\n",
              " 4,\n",
              " 381,\n",
              " 15,\n",
              " 297,\n",
              " 98,\n",
              " 32,\n",
              " 2071,\n",
              " 56,\n",
              " 26,\n",
              " 141,\n",
              " 6,\n",
              " 194,\n",
              " 7486,\n",
              " 18,\n",
              " 4,\n",
              " 226,\n",
              " 22,\n",
              " 21,\n",
              " 134,\n",
              " 476,\n",
              " 26,\n",
              " 480,\n",
              " 5,\n",
              " 144,\n",
              " 30,\n",
              " 5535,\n",
              " 18,\n",
              " 51,\n",
              " 36,\n",
              " 28,\n",
              " 224,\n",
              " 92,\n",
              " 25,\n",
              " 104,\n",
              " 4,\n",
              " 226,\n",
              " 65,\n",
              " 16,\n",
              " 38,\n",
              " 1334,\n",
              " 88,\n",
              " 12,\n",
              " 16,\n",
              " 283,\n",
              " 5,\n",
              " 16,\n",
              " 4472,\n",
              " 113,\n",
              " 103,\n",
              " 32,\n",
              " 15,\n",
              " 16,\n",
              " 5345,\n",
              " 19,\n",
              " 178,\n",
              " 32]"
            ]
          },
          "metadata": {},
          "execution_count": 249
        }
      ],
      "source": [
        "X_train[0]"
      ]
    },
    {
      "cell_type": "code",
      "execution_count": 250,
      "metadata": {
        "id": "sH2pg_tZsNRi"
      },
      "outputs": [],
      "source": [
        "X_train = pad_sequences(X_train, padding = 'post', maxlen = 50)\n",
        "X_test = pad_sequences(X_test, padding = 'post', maxlen = 50)"
      ]
    },
    {
      "cell_type": "code",
      "execution_count": 251,
      "metadata": {
        "id": "qJZos_gbsYQT"
      },
      "outputs": [],
      "source": [
        "model = Sequential()\n",
        "model.add(LSTM(32, input_shape = (50,1), dropout=0.2, recurrent_dropout=0.2))\n",
        "model.add(Dense(1, activation = 'sigmoid'))\n",
        "\n",
        "model.compile(metrics = ['accuracy'], loss = 'binary_crossentropy', optimizer = 'adam')"
      ]
    },
    {
      "cell_type": "markdown",
      "metadata": {
        "id": "NCixrQ4otIkY"
      },
      "source": [
        "50 represents the number of time steps in each input sequence.\n",
        "\n",
        "1 represents the number of features at each time step.\n",
        "\n",
        "[1, 14, 22, 16, 43, ..., 0, 0, 0]\n",
        "\n",
        "[[1], [14], [22], [16], [43], ..., [0], [0], [0]]"
      ]
    },
    {
      "cell_type": "code",
      "execution_count": 252,
      "metadata": {
        "colab": {
          "base_uri": "https://localhost:8080/"
        },
        "id": "n2dYVNbwutaZ",
        "outputId": "ec2eb4c4-7b07-4cf1-e953-1bae3009150f"
      },
      "outputs": [
        {
          "output_type": "stream",
          "name": "stdout",
          "text": [
            "Model: \"sequential_12\"\n",
            "_________________________________________________________________\n",
            " Layer (type)                Output Shape              Param #   \n",
            "=================================================================\n",
            " lstm_8 (LSTM)               (None, 32)                4352      \n",
            "                                                                 \n",
            " dense_11 (Dense)            (None, 1)                 33        \n",
            "                                                                 \n",
            "=================================================================\n",
            "Total params: 4385 (17.13 KB)\n",
            "Trainable params: 4385 (17.13 KB)\n",
            "Non-trainable params: 0 (0.00 Byte)\n",
            "_________________________________________________________________\n"
          ]
        }
      ],
      "source": [
        "model.summary()"
      ]
    },
    {
      "cell_type": "code",
      "execution_count": 253,
      "metadata": {
        "colab": {
          "base_uri": "https://localhost:8080/"
        },
        "id": "zdy1MV9hs_vO",
        "outputId": "5ac941ad-d2f9-4564-d974-21ed03059e4c"
      },
      "outputs": [
        {
          "output_type": "execute_result",
          "data": {
            "text/plain": [
              "(25000, 50)"
            ]
          },
          "metadata": {},
          "execution_count": 253
        }
      ],
      "source": [
        "X_train.shape"
      ]
    },
    {
      "cell_type": "code",
      "execution_count": 254,
      "metadata": {
        "id": "D4RaHgSPtCO2"
      },
      "outputs": [],
      "source": [
        "# reshaping input data\n",
        "\n",
        "X_train = np.expand_dims(X_train, axis = -1)\n",
        "X_test = np.expand_dims(X_test, axis = -1)"
      ]
    },
    {
      "cell_type": "code",
      "execution_count": 255,
      "metadata": {
        "colab": {
          "base_uri": "https://localhost:8080/"
        },
        "id": "XlrlEMuLtt3n",
        "outputId": "5bd2524a-8909-4774-a860-0e8cb4c1ab18"
      },
      "outputs": [
        {
          "output_type": "execute_result",
          "data": {
            "text/plain": [
              "(25000, 50, 1)"
            ]
          },
          "metadata": {},
          "execution_count": 255
        }
      ],
      "source": [
        "X_train.shape"
      ]
    },
    {
      "cell_type": "code",
      "execution_count": 256,
      "metadata": {
        "colab": {
          "base_uri": "https://localhost:8080/"
        },
        "id": "scvo8lgXuGwH",
        "outputId": "8647ef72-25ab-4c27-a7b6-3b25b6df5f12"
      },
      "outputs": [
        {
          "output_type": "execute_result",
          "data": {
            "text/plain": [
              "(25000, 50, 1)"
            ]
          },
          "metadata": {},
          "execution_count": 256
        }
      ],
      "source": [
        "X_test.shape"
      ]
    },
    {
      "cell_type": "code",
      "execution_count": 257,
      "metadata": {
        "colab": {
          "base_uri": "https://localhost:8080/"
        },
        "id": "1y04TR9itwEU",
        "outputId": "53472861-c7d9-450d-9896-08bf60ee9e8f"
      },
      "outputs": [
        {
          "output_type": "stream",
          "name": "stdout",
          "text": [
            "Epoch 1/10\n",
            "782/782 [==============================] - 51s 61ms/step - loss: 0.6959 - accuracy: 0.5045 - val_loss: 0.7016 - val_accuracy: 0.5045\n",
            "Epoch 2/10\n",
            "782/782 [==============================] - 44s 56ms/step - loss: 0.6926 - accuracy: 0.5177 - val_loss: 0.7018 - val_accuracy: 0.5051\n",
            "Epoch 3/10\n",
            "782/782 [==============================] - 47s 60ms/step - loss: 0.6926 - accuracy: 0.5175 - val_loss: 0.6909 - val_accuracy: 0.5320\n",
            "Epoch 4/10\n",
            "782/782 [==============================] - 45s 58ms/step - loss: 0.6911 - accuracy: 0.5238 - val_loss: 0.6897 - val_accuracy: 0.5352\n",
            "Epoch 5/10\n",
            "782/782 [==============================] - 46s 59ms/step - loss: 0.6904 - accuracy: 0.5268 - val_loss: 0.6884 - val_accuracy: 0.5436\n",
            "Epoch 6/10\n",
            "782/782 [==============================] - 45s 58ms/step - loss: 0.6895 - accuracy: 0.5323 - val_loss: 0.6913 - val_accuracy: 0.5266\n",
            "Epoch 7/10\n",
            "782/782 [==============================] - 46s 59ms/step - loss: 0.6896 - accuracy: 0.5347 - val_loss: 0.6882 - val_accuracy: 0.5444\n",
            "Epoch 8/10\n",
            "782/782 [==============================] - 43s 55ms/step - loss: 0.6894 - accuracy: 0.5365 - val_loss: 0.6983 - val_accuracy: 0.5030\n",
            "Epoch 9/10\n",
            "782/782 [==============================] - 46s 59ms/step - loss: 0.6890 - accuracy: 0.5355 - val_loss: 0.6885 - val_accuracy: 0.5364\n",
            "Epoch 10/10\n",
            "782/782 [==============================] - 42s 54ms/step - loss: 0.6904 - accuracy: 0.5294 - val_loss: 0.6875 - val_accuracy: 0.5475\n"
          ]
        }
      ],
      "source": [
        "history = model.fit(X_train, y_train, epochs = 10, validation_data = (X_test, y_test))"
      ]
    },
    {
      "cell_type": "code",
      "source": [
        "import matplotlib.pyplot as plt\n",
        "import tensorflow as tf\n",
        "from tensorflow import keras\n",
        "\n",
        "plt.plot(history.history['accuracy'], color = 'red', label = 'train')\n",
        "plt.plot(history.history['val_accuracy'], color = 'blue', label = 'validation')\n",
        "plt.legend()\n",
        "plt.show()"
      ],
      "metadata": {
        "colab": {
          "base_uri": "https://localhost:8080/",
          "height": 430
        },
        "id": "jgBy-LxK9fVm",
        "outputId": "fee45b7f-f03a-4cc6-cff3-a82872851741"
      },
      "execution_count": 258,
      "outputs": [
        {
          "output_type": "display_data",
          "data": {
            "text/plain": [
              "<Figure size 640x480 with 1 Axes>"
            ],
            "image/png": "[encoded data removed]"
          },
          "metadata": {}
        }
      ]
    },
    {
      "cell_type": "code",
      "source": [
        "plt.plot(history.history['loss'], color = 'red', label = 'train')\n",
        "plt.plot(history.history['val_loss'], color = 'blue', label = 'validation')\n",
        "plt.legend()\n",
        "plt.show()"
      ],
      "metadata": {
        "colab": {
          "base_uri": "https://localhost:8080/",
          "height": 430
        },
        "id": "i-GO2WJ0-mgD",
        "outputId": "351b2465-401e-4eb6-9bdf-69d39a8a6bc4"
      },
      "execution_count": 259,
      "outputs": [
        {
          "output_type": "display_data",
          "data": {
            "text/plain": [
              "<Figure size 640x480 with 1 Axes>"
            ],
            "image/png": "[encoded data removed]"
          },
          "metadata": {}
        }
      ]
    },
    {
      "cell_type": "code",
      "source": [
        "new_reviews = [\"I purchased a larger one for bedroom and it arrived with a busted screen, so I ordered a replacement and got it on Friday. Took it out and set it up. NO picture - only static with a BLACK screen. It was hooked to Direct TV so we knew there was a problem when there was no picture and only static. It wouldn't respond to remote buttons or the buttons on the TV itself - definitely a problem. I called LG customer service and we performed a couple of their tests recommendations and finally got voice sound but still no picture, then we lost the voice again. The Customer Service lady told me this LG was defective. VERY disappointing to say the least - to receive not one but 2 broke/defective TV's. I'm ready to get my money back and try another brand. And I really do like my smaller LG so this is even more upsetting!\",\n",
        "               \"Is a terrible company, not professional keep on change account manager and acct manager look at their own interest (commission) only, mislead clients and end up I lose my capital.\"]"
      ],
      "metadata": {
        "id": "D5hEkNujMlEO"
      },
      "execution_count": 260,
      "outputs": []
    },
    {
      "cell_type": "code",
      "source": [
        "from keras.preprocessing.text import Tokenizer\n",
        "\n",
        "tokenizer = Tokenizer(oov_token = '<nothing>')"
      ],
      "metadata": {
        "id": "EBvv3AUHa7lw"
      },
      "execution_count": 261,
      "outputs": []
    },
    {
      "cell_type": "code",
      "source": [
        "# Integer Encoding\n",
        "\n",
        "tokenizer.fit_on_texts(new_reviews)"
      ],
      "metadata": {
        "id": "XEVysGmBcVry"
      },
      "execution_count": 262,
      "outputs": []
    },
    {
      "cell_type": "code",
      "source": [
        "tokenizer.word_index"
      ],
      "metadata": {
        "colab": {
          "base_uri": "https://localhost:8080/"
        },
        "id": "S4s3-Qw3cORS",
        "outputId": "dda0cb9c-9090-4172-8b60-85a80fcabf10"
      },
      "execution_count": 263,
      "outputs": [
        {
          "output_type": "execute_result",
          "data": {
            "text/plain": [
              "{'<nothing>': 1,\n",
              " 'and': 2,\n",
              " 'a': 3,\n",
              " 'it': 4,\n",
              " 'i': 5,\n",
              " 'to': 6,\n",
              " 'the': 7,\n",
              " 'was': 8,\n",
              " 'so': 9,\n",
              " 'on': 10,\n",
              " 'no': 11,\n",
              " 'picture': 12,\n",
              " 'only': 13,\n",
              " 'we': 14,\n",
              " 'lg': 15,\n",
              " 'my': 16,\n",
              " 'one': 17,\n",
              " 'with': 18,\n",
              " 'screen': 19,\n",
              " 'got': 20,\n",
              " 'up': 21,\n",
              " 'static': 22,\n",
              " 'tv': 23,\n",
              " 'there': 24,\n",
              " 'problem': 25,\n",
              " 'buttons': 26,\n",
              " 'customer': 27,\n",
              " 'service': 28,\n",
              " 'their': 29,\n",
              " 'voice': 30,\n",
              " 'but': 31,\n",
              " 'this': 32,\n",
              " 'defective': 33,\n",
              " 'not': 34,\n",
              " 'is': 35,\n",
              " 'manager': 36,\n",
              " 'purchased': 37,\n",
              " 'larger': 38,\n",
              " 'for': 39,\n",
              " 'bedroom': 40,\n",
              " 'arrived': 41,\n",
              " 'busted': 42,\n",
              " 'ordered': 43,\n",
              " 'replacement': 44,\n",
              " 'friday': 45,\n",
              " 'took': 46,\n",
              " 'out': 47,\n",
              " 'set': 48,\n",
              " 'black': 49,\n",
              " 'hooked': 50,\n",
              " 'direct': 51,\n",
              " 'knew': 52,\n",
              " 'when': 53,\n",
              " \"wouldn't\": 54,\n",
              " 'respond': 55,\n",
              " 'remote': 56,\n",
              " 'or': 57,\n",
              " 'itself': 58,\n",
              " 'definitely': 59,\n",
              " 'called': 60,\n",
              " 'performed': 61,\n",
              " 'couple': 62,\n",
              " 'of': 63,\n",
              " 'tests': 64,\n",
              " 'recommendations': 65,\n",
              " 'finally': 66,\n",
              " 'sound': 67,\n",
              " 'still': 68,\n",
              " 'then': 69,\n",
              " 'lost': 70,\n",
              " 'again': 71,\n",
              " 'lady': 72,\n",
              " 'told': 73,\n",
              " 'me': 74,\n",
              " 'very': 75,\n",
              " 'disappointing': 76,\n",
              " 'say': 77,\n",
              " 'least': 78,\n",
              " 'receive': 79,\n",
              " '2': 80,\n",
              " 'broke': 81,\n",
              " \"tv's\": 82,\n",
              " \"i'm\": 83,\n",
              " 'ready': 84,\n",
              " 'get': 85,\n",
              " 'money': 86,\n",
              " 'back': 87,\n",
              " 'try': 88,\n",
              " 'another': 89,\n",
              " 'brand': 90,\n",
              " 'really': 91,\n",
              " 'do': 92,\n",
              " 'like': 93,\n",
              " 'smaller': 94,\n",
              " 'even': 95,\n",
              " 'more': 96,\n",
              " 'upsetting': 97,\n",
              " 'terrible': 98,\n",
              " 'company': 99,\n",
              " 'professional': 100,\n",
              " 'keep': 101,\n",
              " 'change': 102,\n",
              " 'account': 103,\n",
              " 'acct': 104,\n",
              " 'look': 105,\n",
              " 'at': 106,\n",
              " 'own': 107,\n",
              " 'interest': 108,\n",
              " 'commission': 109,\n",
              " 'mislead': 110,\n",
              " 'clients': 111,\n",
              " 'end': 112,\n",
              " 'lose': 113,\n",
              " 'capital': 114}"
            ]
          },
          "metadata": {},
          "execution_count": 263
        }
      ]
    },
    {
      "cell_type": "code",
      "source": [
        "tokenizer.word_counts"
      ],
      "metadata": {
        "colab": {
          "base_uri": "https://localhost:8080/"
        },
        "id": "Eaft0E7gcRcI",
        "outputId": "7fafb157-b699-4233-8b74-4552c534436c"
      },
      "execution_count": 264,
      "outputs": [
        {
          "output_type": "execute_result",
          "data": {
            "text/plain": [
              "OrderedDict([('i', 5),\n",
              "             ('purchased', 1),\n",
              "             ('a', 8),\n",
              "             ('larger', 1),\n",
              "             ('one', 2),\n",
              "             ('for', 1),\n",
              "             ('bedroom', 1),\n",
              "             ('and', 10),\n",
              "             ('it', 6),\n",
              "             ('arrived', 1),\n",
              "             ('with', 2),\n",
              "             ('busted', 1),\n",
              "             ('screen', 2),\n",
              "             ('so', 3),\n",
              "             ('ordered', 1),\n",
              "             ('replacement', 1),\n",
              "             ('got', 2),\n",
              "             ('on', 3),\n",
              "             ('friday', 1),\n",
              "             ('took', 1),\n",
              "             ('out', 1),\n",
              "             ('set', 1),\n",
              "             ('up', 2),\n",
              "             ('no', 3),\n",
              "             ('picture', 3),\n",
              "             ('only', 3),\n",
              "             ('static', 2),\n",
              "             ('black', 1),\n",
              "             ('was', 4),\n",
              "             ('hooked', 1),\n",
              "             ('to', 5),\n",
              "             ('direct', 1),\n",
              "             ('tv', 2),\n",
              "             ('we', 3),\n",
              "             ('knew', 1),\n",
              "             ('there', 2),\n",
              "             ('problem', 2),\n",
              "             ('when', 1),\n",
              "             (\"wouldn't\", 1),\n",
              "             ('respond', 1),\n",
              "             ('remote', 1),\n",
              "             ('buttons', 2),\n",
              "             ('or', 1),\n",
              "             ('the', 5),\n",
              "             ('itself', 1),\n",
              "             ('definitely', 1),\n",
              "             ('called', 1),\n",
              "             ('lg', 3),\n",
              "             ('customer', 2),\n",
              "             ('service', 2),\n",
              "             ('performed', 1),\n",
              "             ('couple', 1),\n",
              "             ('of', 1),\n",
              "             ('their', 2),\n",
              "             ('tests', 1),\n",
              "             ('recommendations', 1),\n",
              "             ('finally', 1),\n",
              "             ('voice', 2),\n",
              "             ('sound', 1),\n",
              "             ('but', 2),\n",
              "             ('still', 1),\n",
              "             ('then', 1),\n",
              "             ('lost', 1),\n",
              "             ('again', 1),\n",
              "             ('lady', 1),\n",
              "             ('told', 1),\n",
              "             ('me', 1),\n",
              "             ('this', 2),\n",
              "             ('defective', 2),\n",
              "             ('very', 1),\n",
              "             ('disappointing', 1),\n",
              "             ('say', 1),\n",
              "             ('least', 1),\n",
              "             ('receive', 1),\n",
              "             ('not', 2),\n",
              "             ('2', 1),\n",
              "             ('broke', 1),\n",
              "             (\"tv's\", 1),\n",
              "             (\"i'm\", 1),\n",
              "             ('ready', 1),\n",
              "             ('get', 1),\n",
              "             ('my', 3),\n",
              "             ('money', 1),\n",
              "             ('back', 1),\n",
              "             ('try', 1),\n",
              "             ('another', 1),\n",
              "             ('brand', 1),\n",
              "             ('really', 1),\n",
              "             ('do', 1),\n",
              "             ('like', 1),\n",
              "             ('smaller', 1),\n",
              "             ('is', 2),\n",
              "             ('even', 1),\n",
              "             ('more', 1),\n",
              "             ('upsetting', 1),\n",
              "             ('terrible', 1),\n",
              "             ('company', 1),\n",
              "             ('professional', 1),\n",
              "             ('keep', 1),\n",
              "             ('change', 1),\n",
              "             ('account', 1),\n",
              "             ('manager', 2),\n",
              "             ('acct', 1),\n",
              "             ('look', 1),\n",
              "             ('at', 1),\n",
              "             ('own', 1),\n",
              "             ('interest', 1),\n",
              "             ('commission', 1),\n",
              "             ('mislead', 1),\n",
              "             ('clients', 1),\n",
              "             ('end', 1),\n",
              "             ('lose', 1),\n",
              "             ('capital', 1)])"
            ]
          },
          "metadata": {},
          "execution_count": 264
        }
      ]
    },
    {
      "cell_type": "code",
      "source": [
        "tokenizer.document_count"
      ],
      "metadata": {
        "colab": {
          "base_uri": "https://localhost:8080/"
        },
        "id": "zg34pEazchWt",
        "outputId": "3b28d745-f609-426f-db38-12d2471691ad"
      },
      "execution_count": 265,
      "outputs": [
        {
          "output_type": "execute_result",
          "data": {
            "text/plain": [
              "2"
            ]
          },
          "metadata": {},
          "execution_count": 265
        }
      ]
    },
    {
      "cell_type": "code",
      "source": [
        "sequences = tokenizer.texts_to_sequences(new_reviews)"
      ],
      "metadata": {
        "id": "s3Asw1WbcsPY"
      },
      "execution_count": 266,
      "outputs": []
    },
    {
      "cell_type": "code",
      "source": [
        "sequences"
      ],
      "metadata": {
        "colab": {
          "base_uri": "https://localhost:8080/"
        },
        "id": "VGMsshnhc1Gv",
        "outputId": "a1ff2e96-923a-454a-e82f-09e9af7a83db"
      },
      "execution_count": 267,
      "outputs": [
        {
          "output_type": "execute_result",
          "data": {
            "text/plain": [
              "[[5,\n",
              "  37,\n",
              "  3,\n",
              "  38,\n",
              "  17,\n",
              "  39,\n",
              "  40,\n",
              "  2,\n",
              "  4,\n",
              "  41,\n",
              "  18,\n",
              "  3,\n",
              "  42,\n",
              "  19,\n",
              "  9,\n",
              "  5,\n",
              "  43,\n",
              "  3,\n",
              "  44,\n",
              "  2,\n",
              "  20,\n",
              "  4,\n",
              "  10,\n",
              "  45,\n",
              "  46,\n",
              "  4,\n",
              "  47,\n",
              "  2,\n",
              "  48,\n",
              "  4,\n",
              "  21,\n",
              "  11,\n",
              "  12,\n",
              "  13,\n",
              "  22,\n",
              "  18,\n",
              "  3,\n",
              "  49,\n",
              "  19,\n",
              "  4,\n",
              "  8,\n",
              "  50,\n",
              "  6,\n",
              "  51,\n",
              "  23,\n",
              "  9,\n",
              "  14,\n",
              "  52,\n",
              "  24,\n",
              "  8,\n",
              "  3,\n",
              "  25,\n",
              "  53,\n",
              "  24,\n",
              "  8,\n",
              "  11,\n",
              "  12,\n",
              "  2,\n",
              "  13,\n",
              "  22,\n",
              "  4,\n",
              "  54,\n",
              "  55,\n",
              "  6,\n",
              "  56,\n",
              "  26,\n",
              "  57,\n",
              "  7,\n",
              "  26,\n",
              "  10,\n",
              "  7,\n",
              "  23,\n",
              "  58,\n",
              "  59,\n",
              "  3,\n",
              "  25,\n",
              "  5,\n",
              "  60,\n",
              "  15,\n",
              "  27,\n",
              "  28,\n",
              "  2,\n",
              "  14,\n",
              "  61,\n",
              "  3,\n",
              "  62,\n",
              "  63,\n",
              "  29,\n",
              "  64,\n",
              "  65,\n",
              "  2,\n",
              "  66,\n",
              "  20,\n",
              "  30,\n",
              "  67,\n",
              "  31,\n",
              "  68,\n",
              "  11,\n",
              "  12,\n",
              "  69,\n",
              "  14,\n",
              "  70,\n",
              "  7,\n",
              "  30,\n",
              "  71,\n",
              "  7,\n",
              "  27,\n",
              "  28,\n",
              "  72,\n",
              "  73,\n",
              "  74,\n",
              "  32,\n",
              "  15,\n",
              "  8,\n",
              "  33,\n",
              "  75,\n",
              "  76,\n",
              "  6,\n",
              "  77,\n",
              "  7,\n",
              "  78,\n",
              "  6,\n",
              "  79,\n",
              "  34,\n",
              "  17,\n",
              "  31,\n",
              "  80,\n",
              "  81,\n",
              "  33,\n",
              "  82,\n",
              "  83,\n",
              "  84,\n",
              "  6,\n",
              "  85,\n",
              "  16,\n",
              "  86,\n",
              "  87,\n",
              "  2,\n",
              "  88,\n",
              "  89,\n",
              "  90,\n",
              "  2,\n",
              "  5,\n",
              "  91,\n",
              "  92,\n",
              "  93,\n",
              "  16,\n",
              "  94,\n",
              "  15,\n",
              "  9,\n",
              "  32,\n",
              "  35,\n",
              "  95,\n",
              "  96,\n",
              "  97],\n",
              " [35,\n",
              "  3,\n",
              "  98,\n",
              "  99,\n",
              "  34,\n",
              "  100,\n",
              "  101,\n",
              "  10,\n",
              "  102,\n",
              "  103,\n",
              "  36,\n",
              "  2,\n",
              "  104,\n",
              "  36,\n",
              "  105,\n",
              "  106,\n",
              "  29,\n",
              "  107,\n",
              "  108,\n",
              "  109,\n",
              "  13,\n",
              "  110,\n",
              "  111,\n",
              "  2,\n",
              "  112,\n",
              "  21,\n",
              "  5,\n",
              "  113,\n",
              "  16,\n",
              "  114]]"
            ]
          },
          "metadata": {},
          "execution_count": 267
        }
      ]
    },
    {
      "cell_type": "code",
      "source": [
        "from keras.utils import pad_sequences"
      ],
      "metadata": {
        "id": "MTPYls18cj68"
      },
      "execution_count": 268,
      "outputs": []
    },
    {
      "cell_type": "code",
      "source": [
        "sequences = pad_sequences(sequences, padding = 'post', maxlen = 50)\n",
        "sequences"
      ],
      "metadata": {
        "colab": {
          "base_uri": "https://localhost:8080/"
        },
        "id": "fLWJFOgwco-6",
        "outputId": "e73a689f-c196-4d3d-e7c1-da656ce9817b"
      },
      "execution_count": 269,
      "outputs": [
        {
          "output_type": "execute_result",
          "data": {
            "text/plain": [
              "array([[  7,  27,  28,  72,  73,  74,  32,  15,   8,  33,  75,  76,   6,\n",
              "         77,   7,  78,   6,  79,  34,  17,  31,  80,  81,  33,  82,  83,\n",
              "         84,   6,  85,  16,  86,  87,   2,  88,  89,  90,   2,   5,  91,\n",
              "         92,  93,  16,  94,  15,   9,  32,  35,  95,  96,  97],\n",
              "       [ 35,   3,  98,  99,  34, 100, 101,  10, 102, 103,  36,   2, 104,\n",
              "         36, 105, 106,  29, 107, 108, 109,  13, 110, 111,   2, 112,  21,\n",
              "          5, 113,  16, 114,   0,   0,   0,   0,   0,   0,   0,   0,   0,\n",
              "          0,   0,   0,   0,   0,   0,   0,   0,   0,   0,   0]],\n",
              "      dtype=int32)"
            ]
          },
          "metadata": {},
          "execution_count": 269
        }
      ]
    },
    {
      "cell_type": "code",
      "source": [
        "sequences.shape"
      ],
      "metadata": {
        "colab": {
          "base_uri": "https://localhost:8080/"
        },
        "id": "ujqA_2pxdGgG",
        "outputId": "6d59a3f1-f383-49b3-9014-bf5c9f0d7472"
      },
      "execution_count": 270,
      "outputs": [
        {
          "output_type": "execute_result",
          "data": {
            "text/plain": [
              "(2, 50)"
            ]
          },
          "metadata": {},
          "execution_count": 270
        }
      ]
    },
    {
      "cell_type": "code",
      "source": [
        "sequences = np.expand_dims(sequences, axis = -1)\n",
        "sequences.shape"
      ],
      "metadata": {
        "colab": {
          "base_uri": "https://localhost:8080/"
        },
        "id": "W22j_xS8enjx",
        "outputId": "5df76c83-d1e5-4a9a-fc78-55ce00438e32"
      },
      "execution_count": 271,
      "outputs": [
        {
          "output_type": "execute_result",
          "data": {
            "text/plain": [
              "(2, 50, 1)"
            ]
          },
          "metadata": {},
          "execution_count": 271
        }
      ]
    },
    {
      "cell_type": "code",
      "source": [
        "predictions = model.predict(sequences)\n",
        "predictions"
      ],
      "metadata": {
        "colab": {
          "base_uri": "https://localhost:8080/"
        },
        "id": "OeH--chxe4ws",
        "outputId": "c74710c1-6eee-4c7f-80c0-91398533149b"
      },
      "execution_count": 272,
      "outputs": [
        {
          "output_type": "stream",
          "name": "stdout",
          "text": [
            "1/1 [==============================] - 0s 255ms/step\n"
          ]
        },
        {
          "output_type": "execute_result",
          "data": {
            "text/plain": [
              "array([[0.45491585],\n",
              "       [0.6170852 ]], dtype=float32)"
            ]
          },
          "metadata": {},
          "execution_count": 272
        }
      ]
    },
    {
      "cell_type": "code",
      "source": [
        "# Interpret the predictions\n",
        "\n",
        "for review, prediction in zip(new_reviews, predictions):\n",
        "    sentiment = \"positive\" if prediction > 0.75 else \"negative\"\n",
        "    print(f\"Review: {review[:10]}... - Sentiment: {sentiment}\")"
      ],
      "metadata": {
        "colab": {
          "base_uri": "https://localhost:8080/"
        },
        "id": "PDvv3qWDgBMc",
        "outputId": "1815f42f-44fa-4f02-831e-33a7e0d3de23"
      },
      "execution_count": 274,
      "outputs": [
        {
          "output_type": "stream",
          "name": "stdout",
          "text": [
            "Review: I purchase... - Sentiment: negative\n",
            "Review: Is a terri... - Sentiment: negative\n"
          ]
        }
      ]
    }
  ],
  "metadata": {
    "colab": {
      "provenance": [],
      "authorship_tag": "ABX9TyOy7imZ90g0Ad37WLgfV9cO",
      "include_colab_link": true
    },
    "kernelspec": {
      "display_name": "Python 3",
      "name": "python3"
    },
    "language_info": {
      "name": "python"
    }
  },
  "nbformat": 4,
  "nbformat_minor": 0
}